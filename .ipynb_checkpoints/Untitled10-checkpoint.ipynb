{
 "cells": [
  {
   "cell_type": "code",
   "execution_count": null,
   "metadata": {},
   "outputs": [],
   "source": []
  },
  {
   "cell_type": "code",
   "execution_count": 6,
   "metadata": {},
   "outputs": [],
   "source": [
    "import warnings\n",
    "warnings.filterwarnings('ignore')"
   ]
  },
  {
   "cell_type": "code",
   "execution_count": 5,
   "metadata": {},
   "outputs": [],
   "source": [
    "%matplotlib inline\n",
    "from pathlib import Path\n",
    "import pickle\n",
    "import pandas as pd\n",
    "import numpy as np\n",
    "from scipy import stats\n",
    "\n",
    "import pandas_datareader.data as web\n",
    "\n",
    "from sklearn.preprocessing import scale\n",
    "from sklearn.model_selection import train_test_split\n",
    "from sklearn.feature_selection import mutual_info_classif\n",
    "from sklearn.metrics import roc_auc_score\n",
    "\n",
    "#import theano\n",
    "import pymc3 as pm\n",
    "from pymc3.variational.callbacks import CheckParametersConvergence\n",
    "import statsmodels.formula.api as smf\n",
    "\n",
    "import matplotlib.pyplot as plt\n",
    "from matplotlib import animation\n",
    "import seaborn as sns\n",
    "from IPython.display import HTML"
   ]
  },
  {
   "cell_type": "markdown",
   "metadata": {},
   "source": [
    "# Recession Data"
   ]
  },
  {
   "cell_type": "code",
   "execution_count": 8,
   "metadata": {},
   "outputs": [],
   "source": [
    "sns.set_style('whitegrid')"
   ]
  },
  {
   "cell_type": "code",
   "execution_count": 9,
   "metadata": {},
   "outputs": [],
   "source": [
    "data_path = Path('data')\n",
    "fig_path = Path('figures')\n",
    "model_path = Path('models')\n",
    "for p in [data_path, fig_path, model_path]:\n",
    "    if not p.exists():\n",
    "        p.mkdir()"
   ]
  },
  {
   "cell_type": "code",
   "execution_count": 10,
   "metadata": {},
   "outputs": [],
   "source": [
    "indicators = ['JHDUSRGDPBR', 'T10Y3M', 'NFCI', 'NFCILEVERAGE', 'UMCSENT']\n",
    "var_names = ['recession', 'yield_curve', 'financial_conditions', 'leverage', 'sentiment']"
   ]
  },
  {
   "cell_type": "code",
   "execution_count": 11,
   "metadata": {},
   "outputs": [],
   "source": [
    "features = var_names[1:]\n",
    "label = var_names[0]"
   ]
  },
  {
   "cell_type": "code",
   "execution_count": 12,
   "metadata": {},
   "outputs": [
    {
     "data": {
      "text/plain": [
       "['yield_curve', 'financial_conditions', 'leverage', 'sentiment']"
      ]
     },
     "execution_count": 12,
     "metadata": {},
     "output_type": "execute_result"
    }
   ],
   "source": [
    "features"
   ]
  },
  {
   "cell_type": "code",
   "execution_count": 13,
   "metadata": {},
   "outputs": [
    {
     "data": {
      "text/plain": [
       "'recession'"
      ]
     },
     "execution_count": 13,
     "metadata": {},
     "output_type": "execute_result"
    }
   ],
   "source": [
    "label"
   ]
  },
  {
   "cell_type": "code",
   "execution_count": 14,
   "metadata": {},
   "outputs": [],
   "source": [
    "var_display = ['Recession', 'Yield Curve', 'Financial Conditions', 'Leverage', 'Sentiment']\n",
    "col_dict = dict(zip(var_names, var_display))"
   ]
  },
  {
   "cell_type": "code",
   "execution_count": 15,
   "metadata": {},
   "outputs": [],
   "source": [
    "data = (web.DataReader(indicators, 'fred', 1980, 2021)\n",
    "        .ffill()\n",
    "        .resample('M')\n",
    "        .last()\n",
    "        .dropna())\n",
    "data.columns = var_names"
   ]
  },
  {
   "cell_type": "code",
   "execution_count": 16,
   "metadata": {},
   "outputs": [],
   "source": [
    "data.loc[:, features] = scale(data.loc[:, features])"
   ]
  },
  {
   "cell_type": "code",
   "execution_count": 17,
   "metadata": {},
   "outputs": [
    {
     "name": "stdout",
     "output_type": "stream",
     "text": [
      "<class 'pandas.core.frame.DataFrame'>\n",
      "DatetimeIndex: 469 entries, 1982-01-31 to 2021-01-31\n",
      "Freq: M\n",
      "Data columns (total 5 columns):\n",
      " #   Column                Non-Null Count  Dtype  \n",
      "---  ------                --------------  -----  \n",
      " 0   recession             469 non-null    float64\n",
      " 1   yield_curve           469 non-null    float64\n",
      " 2   financial_conditions  469 non-null    float64\n",
      " 3   leverage              469 non-null    float64\n",
      " 4   sentiment             469 non-null    float64\n",
      "dtypes: float64(5)\n",
      "memory usage: 22.0 KB\n"
     ]
    }
   ],
   "source": [
    "data.info()"
   ]
  },
  {
   "cell_type": "code",
   "execution_count": 26,
   "metadata": {},
   "outputs": [
    {
     "data": {
      "text/html": [
       "<div>\n",
       "<style scoped>\n",
       "    .dataframe tbody tr th:only-of-type {\n",
       "        vertical-align: middle;\n",
       "    }\n",
       "\n",
       "    .dataframe tbody tr th {\n",
       "        vertical-align: top;\n",
       "    }\n",
       "\n",
       "    .dataframe thead th {\n",
       "        text-align: right;\n",
       "    }\n",
       "</style>\n",
       "<table border=\"1\" class=\"dataframe\">\n",
       "  <thead>\n",
       "    <tr style=\"text-align: right;\">\n",
       "      <th></th>\n",
       "      <th>yield_curve</th>\n",
       "      <th>financial_conditions</th>\n",
       "      <th>leverage</th>\n",
       "      <th>sentiment</th>\n",
       "    </tr>\n",
       "  </thead>\n",
       "  <tbody>\n",
       "    <tr>\n",
       "      <th>1</th>\n",
       "      <td>0.114687</td>\n",
       "      <td>0.071495</td>\n",
       "      <td>0.075044</td>\n",
       "      <td>0.006343</td>\n",
       "    </tr>\n",
       "    <tr>\n",
       "      <th>2</th>\n",
       "      <td>0.122232</td>\n",
       "      <td>0.056486</td>\n",
       "      <td>0.067799</td>\n",
       "      <td>0.017406</td>\n",
       "    </tr>\n",
       "    <tr>\n",
       "      <th>3</th>\n",
       "      <td>0.116453</td>\n",
       "      <td>0.052406</td>\n",
       "      <td>0.065972</td>\n",
       "      <td>0.013591</td>\n",
       "    </tr>\n",
       "    <tr>\n",
       "      <th>4</th>\n",
       "      <td>0.114280</td>\n",
       "      <td>0.049715</td>\n",
       "      <td>0.074615</td>\n",
       "      <td>0.025193</td>\n",
       "    </tr>\n",
       "    <tr>\n",
       "      <th>5</th>\n",
       "      <td>0.108962</td>\n",
       "      <td>0.053199</td>\n",
       "      <td>0.085647</td>\n",
       "      <td>0.000000</td>\n",
       "    </tr>\n",
       "    <tr>\n",
       "      <th>6</th>\n",
       "      <td>0.099745</td>\n",
       "      <td>0.065535</td>\n",
       "      <td>0.072891</td>\n",
       "      <td>0.000000</td>\n",
       "    </tr>\n",
       "    <tr>\n",
       "      <th>7</th>\n",
       "      <td>0.102641</td>\n",
       "      <td>0.054610</td>\n",
       "      <td>0.076882</td>\n",
       "      <td>0.008919</td>\n",
       "    </tr>\n",
       "    <tr>\n",
       "      <th>8</th>\n",
       "      <td>0.116787</td>\n",
       "      <td>0.054374</td>\n",
       "      <td>0.075794</td>\n",
       "      <td>0.028362</td>\n",
       "    </tr>\n",
       "    <tr>\n",
       "      <th>9</th>\n",
       "      <td>0.099740</td>\n",
       "      <td>0.060227</td>\n",
       "      <td>0.063629</td>\n",
       "      <td>0.032124</td>\n",
       "    </tr>\n",
       "    <tr>\n",
       "      <th>10</th>\n",
       "      <td>0.102008</td>\n",
       "      <td>0.041242</td>\n",
       "      <td>0.069883</td>\n",
       "      <td>0.040004</td>\n",
       "    </tr>\n",
       "    <tr>\n",
       "      <th>11</th>\n",
       "      <td>0.069234</td>\n",
       "      <td>0.042696</td>\n",
       "      <td>0.051503</td>\n",
       "      <td>0.032549</td>\n",
       "    </tr>\n",
       "    <tr>\n",
       "      <th>12</th>\n",
       "      <td>0.052391</td>\n",
       "      <td>0.048369</td>\n",
       "      <td>0.051402</td>\n",
       "      <td>0.018067</td>\n",
       "    </tr>\n",
       "    <tr>\n",
       "      <th>13</th>\n",
       "      <td>0.054117</td>\n",
       "      <td>0.054438</td>\n",
       "      <td>0.061174</td>\n",
       "      <td>0.005668</td>\n",
       "    </tr>\n",
       "    <tr>\n",
       "      <th>14</th>\n",
       "      <td>0.054525</td>\n",
       "      <td>0.052992</td>\n",
       "      <td>0.071508</td>\n",
       "      <td>0.015905</td>\n",
       "    </tr>\n",
       "    <tr>\n",
       "      <th>15</th>\n",
       "      <td>0.042872</td>\n",
       "      <td>0.059576</td>\n",
       "      <td>0.092522</td>\n",
       "      <td>0.017477</td>\n",
       "    </tr>\n",
       "    <tr>\n",
       "      <th>16</th>\n",
       "      <td>0.038845</td>\n",
       "      <td>0.078776</td>\n",
       "      <td>0.074390</td>\n",
       "      <td>0.018799</td>\n",
       "    </tr>\n",
       "    <tr>\n",
       "      <th>17</th>\n",
       "      <td>0.038242</td>\n",
       "      <td>0.087356</td>\n",
       "      <td>0.061417</td>\n",
       "      <td>0.019938</td>\n",
       "    </tr>\n",
       "    <tr>\n",
       "      <th>18</th>\n",
       "      <td>0.012434</td>\n",
       "      <td>0.108586</td>\n",
       "      <td>0.035507</td>\n",
       "      <td>0.025409</td>\n",
       "    </tr>\n",
       "    <tr>\n",
       "      <th>19</th>\n",
       "      <td>0.017157</td>\n",
       "      <td>0.093310</td>\n",
       "      <td>0.036221</td>\n",
       "      <td>0.023560</td>\n",
       "    </tr>\n",
       "    <tr>\n",
       "      <th>20</th>\n",
       "      <td>0.022274</td>\n",
       "      <td>0.085544</td>\n",
       "      <td>0.023983</td>\n",
       "      <td>0.021413</td>\n",
       "    </tr>\n",
       "    <tr>\n",
       "      <th>21</th>\n",
       "      <td>0.008434</td>\n",
       "      <td>0.059964</td>\n",
       "      <td>0.018321</td>\n",
       "      <td>0.013887</td>\n",
       "    </tr>\n",
       "    <tr>\n",
       "      <th>22</th>\n",
       "      <td>0.025324</td>\n",
       "      <td>0.036659</td>\n",
       "      <td>0.012194</td>\n",
       "      <td>0.024332</td>\n",
       "    </tr>\n",
       "    <tr>\n",
       "      <th>23</th>\n",
       "      <td>0.032844</td>\n",
       "      <td>0.037224</td>\n",
       "      <td>0.001839</td>\n",
       "      <td>0.035636</td>\n",
       "    </tr>\n",
       "    <tr>\n",
       "      <th>24</th>\n",
       "      <td>0.023417</td>\n",
       "      <td>0.052334</td>\n",
       "      <td>0.011061</td>\n",
       "      <td>0.033286</td>\n",
       "    </tr>\n",
       "  </tbody>\n",
       "</table>\n",
       "</div>"
      ],
      "text/plain": [
       "    yield_curve  financial_conditions  leverage  sentiment\n",
       "1      0.114687              0.071495  0.075044   0.006343\n",
       "2      0.122232              0.056486  0.067799   0.017406\n",
       "3      0.116453              0.052406  0.065972   0.013591\n",
       "4      0.114280              0.049715  0.074615   0.025193\n",
       "5      0.108962              0.053199  0.085647   0.000000\n",
       "6      0.099745              0.065535  0.072891   0.000000\n",
       "7      0.102641              0.054610  0.076882   0.008919\n",
       "8      0.116787              0.054374  0.075794   0.028362\n",
       "9      0.099740              0.060227  0.063629   0.032124\n",
       "10     0.102008              0.041242  0.069883   0.040004\n",
       "11     0.069234              0.042696  0.051503   0.032549\n",
       "12     0.052391              0.048369  0.051402   0.018067\n",
       "13     0.054117              0.054438  0.061174   0.005668\n",
       "14     0.054525              0.052992  0.071508   0.015905\n",
       "15     0.042872              0.059576  0.092522   0.017477\n",
       "16     0.038845              0.078776  0.074390   0.018799\n",
       "17     0.038242              0.087356  0.061417   0.019938\n",
       "18     0.012434              0.108586  0.035507   0.025409\n",
       "19     0.017157              0.093310  0.036221   0.023560\n",
       "20     0.022274              0.085544  0.023983   0.021413\n",
       "21     0.008434              0.059964  0.018321   0.013887\n",
       "22     0.025324              0.036659  0.012194   0.024332\n",
       "23     0.032844              0.037224  0.001839   0.035636\n",
       "24     0.023417              0.052334  0.011061   0.033286"
      ]
     },
     "execution_count": 26,
     "metadata": {},
     "output_type": "execute_result"
    }
   ],
   "source": [
    "mi = []\n",
    "months = list(range(1, 25))\n",
    "for month in months:\n",
    "    df_ = data.copy()\n",
    "    df_[label] = df_[label].shift(-month)\n",
    "    df_ = df_.dropna()\n",
    "    mi.append(mutual_info_classif(df_.loc[:, features], df_[label]))\n",
    "mi = pd.DataFrame(mi, columns=features, index=months)\n",
    "mi"
   ]
  },
  {
   "cell_type": "markdown",
   "metadata": {},
   "source": [
    "#### The mutual information between the binary recession variable and the four leading indicators for horizons from 1-24 months:"
   ]
  },
  {
   "cell_type": "code",
   "execution_count": 77,
   "metadata": {},
   "outputs": [
    {
     "data": {
      "image/png": "[encoded data removed]",
      "text/plain": [
       "<Figure size 1440x216 with 1 Axes>"
      ]
     },
     "metadata": {},
     "output_type": "display_data"
    }
   ],
   "source": [
    "fig, ax = plt.subplots(figsize=(20, 3))\n",
    "sns.heatmap(mi.rename(columns=col_dict).T*100, cmap='Blues', ax=ax, annot=True, fmt='.1f', cbar=False)\n",
    "ax.set_xlabel('Lead Time (Months)')\n",
    "ax.set_title('Heat Map between Indicators and Recession by Lead Time')\n",
    "fig.tight_layout();"
   ]
  },
  {
   "cell_type": "code",
   "execution_count": 21,
   "metadata": {},
   "outputs": [
    {
     "data": {
      "image/png": "[encoded data removed]",
      "text/plain": [
       "<Figure size 1440x360 with 4 Axes>"
      ]
     },
     "metadata": {},
     "output_type": "display_data"
    }
   ],
   "source": [
    "data[label] = data[label].shift(-12)\n",
    "data = data.dropna()\n",
    "data_ = pd.melt(data.rename(columns=col_dict), id_vars='Recession').rename(columns=str.capitalize)\n",
    "g = sns.catplot(x='Recession', y='Value', col='Variable', data=data_, kind='box');"
   ]
  },
  {
   "cell_type": "code",
   "execution_count": 30,
   "metadata": {},
   "outputs": [],
   "source": [
    "data.to_csv('data/recessions.csv')"
   ]
  },
  {
   "cell_type": "code",
   "execution_count": 31,
   "metadata": {},
   "outputs": [
    {
     "name": "stdout",
     "output_type": "stream",
     "text": [
      "<class 'pandas.core.frame.DataFrame'>\n",
      "Index: 445 entries, 1982-01-31 to 2019-01-31\n",
      "Data columns (total 5 columns):\n",
      " #   Column                Non-Null Count  Dtype  \n",
      "---  ------                --------------  -----  \n",
      " 0   recession             445 non-null    float64\n",
      " 1   yield_curve           445 non-null    float64\n",
      " 2   financial_conditions  445 non-null    float64\n",
      " 3   leverage              445 non-null    float64\n",
      " 4   sentiment             445 non-null    float64\n",
      "dtypes: float64(5)\n",
      "memory usage: 20.9+ KB\n"
     ]
    }
   ],
   "source": [
    "data = pd.read_csv('data/recessions.csv', index_col=0)\n",
    "data.info()"
   ]
  },
  {
   "cell_type": "code",
   "execution_count": 32,
   "metadata": {},
   "outputs": [],
   "source": [
    "X = data.loc[:, features]\n",
    "y = data[label]"
   ]
  },
  {
   "cell_type": "code",
   "execution_count": 33,
   "metadata": {},
   "outputs": [
    {
     "data": {
      "text/plain": [
       "0.0    391\n",
       "1.0     54\n",
       "Name: recession, dtype: int64"
      ]
     },
     "execution_count": 33,
     "metadata": {},
     "output_type": "execute_result"
    }
   ],
   "source": [
    "y.value_counts()"
   ]
  },
  {
   "cell_type": "code",
   "execution_count": 34,
   "metadata": {},
   "outputs": [],
   "source": [
    "simple_model = 'recession ~ yield_curve + leverage'\n",
    "full_model =  simple_model + ' + financial_conditions + sentiment'"
   ]
  },
  {
   "cell_type": "code",
   "execution_count": 45,
   "metadata": {},
   "outputs": [],
   "source": [
    "with pm.Model() as manual_logistic_model:\n",
    "    # random variables for coefficients with\n",
    "    # uninformative priors for each parameter\n",
    "\n",
    "    intercept = pm.Normal('intercept', 0, sd=100)\n",
    "    beta_1 = pm.Normal('beta_1', 1, sd=100)\n",
    "    beta_2 = pm.Normal('beta_2', 1, sd=100)\n",
    "    \n",
    "    "
   ]
  },
  {
   "cell_type": "code",
   "execution_count": 53,
   "metadata": {},
   "outputs": [
    {
     "data": {
      "text/plain": [
       "pandas.core.frame.DataFrame"
      ]
     },
     "execution_count": 53,
     "metadata": {},
     "output_type": "execute_result"
    }
   ],
   "source": [
    "type(data)"
   ]
  },
  {
   "cell_type": "code",
   "execution_count": 54,
   "metadata": {},
   "outputs": [
    {
     "data": {
      "text/plain": [
       "array([[ 0.        , -0.59716793,  3.38621648,  2.50794079, -1.42915194],\n",
       "       [ 0.        , -0.62383551,  3.58464313,  2.43732133, -1.81128636],\n",
       "       [ 0.        , -1.3705276 ,  3.75700488,  2.27835351, -2.19342077],\n",
       "       ...,\n",
       "       [ 0.        , -0.97051398, -0.37336524, -0.23853185,  0.82119518],\n",
       "       [ 0.        , -1.32608165, -0.29816435, -0.1998038 ,  0.88913019],\n",
       "       [ 0.        , -1.34386003, -0.40970797, -0.23960048,  0.286207  ]])"
      ]
     },
     "execution_count": 54,
     "metadata": {},
     "output_type": "execute_result"
    }
   ],
   "source": [
    "data.to_numpy()"
   ]
  },
  {
   "cell_type": "code",
   "execution_count": 55,
   "metadata": {},
   "outputs": [
    {
     "data": {
      "text/plain": [
       "pandas.core.frame.DataFrame"
      ]
     },
     "execution_count": 55,
     "metadata": {},
     "output_type": "execute_result"
    }
   ],
   "source": [
    "type(data)"
   ]
  },
  {
   "cell_type": "code",
   "execution_count": null,
   "metadata": {},
   "outputs": [],
   "source": [
    "# To be commented out"
   ]
  },
  {
   "cell_type": "code",
   "execution_count": 80,
   "metadata": {},
   "outputs": [],
   "source": [
    "with pm.Model() as manual_logistic_model:\n",
    "    # random variables for coefficients with\n",
    "    # uninformative priors for each parameter\n",
    "\n",
    "    intercept = pm.Normal('intercept', 0, sd=100)\n",
    "    beta_1 = pm.Normal('beta_1', 1, sd=100)\n",
    "    beta_2 = pm.Normal('beta_2', 1, sd=100)\n",
    "    \n",
    "    # Transform random variables into vector of probabilities p(y_i=1)\n",
    "    # according to logistic regression model specification.\n",
    "\n",
    "    likelihood = pm.invlogit(intercept + beta_1*data['yield_curve'].to_numpy() +\n",
    "                             beta_2*data['leverage'].to_numpy())\n",
    "    # Bernoulli random vector with probability of success\n",
    "    # given by sigmoid function and actual data as observed\n",
    "    pm.Bernoulli(name='logit', \n",
    "                 p=likelihood, \n",
    "                 observed=data.recession)"
   ]
  },
  {
   "cell_type": "code",
   "execution_count": 60,
   "metadata": {},
   "outputs": [
    {
     "data": {
      "text/latex": [
       "$$\n",
       "                \\begin{array}{rcl}\n",
       "                \\text{intercept} &\\sim & \\text{Normal}\\\\\\text{beta_1} &\\sim & \\text{Normal}\\\\\\text{beta_2} &\\sim & \\text{Normal}\\\\\\text{logit} &\\sim & \\text{Bernoulli}\n",
       "                \\end{array}\n",
       "                $$"
      ],
      "text/plain": [
       "<pymc3.model.Model at 0x124a2f1f0>"
      ]
     },
     "execution_count": 60,
     "metadata": {},
     "output_type": "execute_result"
    }
   ],
   "source": [
    "manual_logistic_model.model"
   ]
  },
  {
   "cell_type": "code",
   "execution_count": 62,
   "metadata": {},
   "outputs": [],
   "source": [
    "#pm.model_to_graphviz(manual_logistic_model)"
   ]
  },
  {
   "cell_type": "code",
   "execution_count": 63,
   "metadata": {},
   "outputs": [
    {
     "data": {
      "text/html": [
       "\n",
       "    <div>\n",
       "        <style>\n",
       "            /* Turns off some styling */\n",
       "            progress {\n",
       "                /* gets rid of default border in Firefox and Opera. */\n",
       "                border: none;\n",
       "                /* Needs to be in here for Safari polyfill so background images work as expected. */\n",
       "                background-size: auto;\n",
       "            }\n",
       "            .progress-bar-interrupted, .progress-bar-interrupted::-webkit-progress-bar {\n",
       "                background: #F44336;\n",
       "            }\n",
       "        </style>\n",
       "      <progress value='11' class='' max='11' style='width:300px; height:20px; vertical-align: middle;'></progress>\n",
       "      100.00% [11/11 00:00<00:00 logp = -154.67, ||grad|| = 2.0465e-05]\n",
       "    </div>\n",
       "    "
      ],
      "text/plain": [
       "<IPython.core.display.HTML object>"
      ]
     },
     "metadata": {},
     "output_type": "display_data"
    },
    {
     "name": "stdout",
     "output_type": "stream",
     "text": [
      "\n"
     ]
    }
   ],
   "source": [
    "with manual_logistic_model:\n",
    "    # compute maximum a-posteriori estimate\n",
    "    # for logistic regression weights\n",
    "    manual_map_estimate = pm.find_MAP()"
   ]
  },
  {
   "cell_type": "code",
   "execution_count": 64,
   "metadata": {},
   "outputs": [],
   "source": [
    "def print_map(result):\n",
    "    return pd.Series({k: np.asscalar(v) for k, v in result.items()})"
   ]
  },
  {
   "cell_type": "code",
   "execution_count": 65,
   "metadata": {},
   "outputs": [
    {
     "data": {
      "text/plain": [
       "intercept   -2.387450\n",
       "beta_1      -1.137048\n",
       "beta_2       0.346338\n",
       "dtype: float64"
      ]
     },
     "execution_count": 65,
     "metadata": {},
     "output_type": "execute_result"
    }
   ],
   "source": [
    "print_map(manual_map_estimate)"
   ]
  },
  {
   "cell_type": "code",
   "execution_count": 66,
   "metadata": {},
   "outputs": [],
   "source": [
    "with pm.Model() as logistic_model:\n",
    "    pm.glm.GLM.from_formula(simple_model,\n",
    "                            data,\n",
    "                            family=pm.glm.families.Binomial())"
   ]
  },
  {
   "cell_type": "code",
   "execution_count": 79,
   "metadata": {},
   "outputs": [
    {
     "data": {
      "text/html": [
       "\n",
       "    <div>\n",
       "        <style>\n",
       "            /* Turns off some styling */\n",
       "            progress {\n",
       "                /* gets rid of default border in Firefox and Opera. */\n",
       "                border: none;\n",
       "                /* Needs to be in here for Safari polyfill so background images work as expected. */\n",
       "                background-size: auto;\n",
       "            }\n",
       "            .progress-bar-interrupted, .progress-bar-interrupted::-webkit-progress-bar {\n",
       "                background: #F44336;\n",
       "            }\n",
       "        </style>\n",
       "      <progress value='13' class='' max='13' style='width:300px; height:20px; vertical-align: middle;'></progress>\n",
       "      100.00% [13/13 00:00<00:00 logp = -166.39, ||grad|| = 0.013222]\n",
       "    </div>\n",
       "    "
      ],
      "text/plain": [
       "<IPython.core.display.HTML object>"
      ]
     },
     "metadata": {},
     "output_type": "display_data"
    },
    {
     "name": "stdout",
     "output_type": "stream",
     "text": [
      "\n"
     ]
    },
    {
     "data": {
      "text/plain": [
       "Intercept              -2.461143\n",
       "yield_curve            -1.005626\n",
       "leverage                0.639980\n",
       "financial_conditions   -0.290042\n",
       "sentiment               0.320165\n",
       "dtype: float64"
      ]
     },
     "execution_count": 79,
     "metadata": {},
     "output_type": "execute_result"
    }
   ],
   "source": [
    "with logistic_model:\n",
    "    map_estimate = pm.find_MAP()\n",
    "print_map(map_estimate)"
   ]
  },
  {
   "cell_type": "code",
   "execution_count": 68,
   "metadata": {},
   "outputs": [
    {
     "name": "stdout",
     "output_type": "stream",
     "text": [
      "Optimization terminated successfully.\n",
      "         Current function value: 0.310335\n",
      "         Iterations 7\n",
      "                           Logit Regression Results                           \n",
      "==============================================================================\n",
      "Dep. Variable:              recession   No. Observations:                  445\n",
      "Model:                          Logit   Df Residuals:                      442\n",
      "Method:                           MLE   Df Model:                            2\n",
      "Date:                Wed, 21 Apr 2021   Pseudo R-squ.:                  0.1604\n",
      "Time:                        23:28:23   Log-Likelihood:                -138.10\n",
      "converged:                       True   LL-Null:                       -164.47\n",
      "Covariance Type:            nonrobust   LLR p-value:                 3.514e-12\n",
      "===============================================================================\n",
      "                  coef    std err          z      P>|z|      [0.025      0.975]\n",
      "-------------------------------------------------------------------------------\n",
      "Intercept      -2.3875      0.202    -11.833      0.000      -2.783      -1.992\n",
      "yield_curve    -1.1371      0.183     -6.219      0.000      -1.495      -0.779\n",
      "leverage        0.3463      0.148      2.333      0.020       0.055       0.637\n",
      "===============================================================================\n"
     ]
    }
   ],
   "source": [
    "model = smf.logit(formula=simple_model, data=data)\n",
    "result = model.fit()\n",
    "print(result.summary())"
   ]
  },
  {
   "cell_type": "code",
   "execution_count": 69,
   "metadata": {},
   "outputs": [
    {
     "data": {
      "text/plain": [
       "Intercept     -2.387464\n",
       "yield_curve   -1.137060\n",
       "leverage       0.346339\n",
       "dtype: float64"
      ]
     },
     "execution_count": 69,
     "metadata": {},
     "output_type": "execute_result"
    }
   ],
   "source": [
    "print_map(map_estimate)"
   ]
  },
  {
   "cell_type": "code",
   "execution_count": 70,
   "metadata": {},
   "outputs": [
    {
     "data": {
      "text/plain": [
       "Intercept     -2.387464\n",
       "yield_curve   -1.137060\n",
       "leverage       0.346339\n",
       "dtype: float64"
      ]
     },
     "execution_count": 70,
     "metadata": {},
     "output_type": "execute_result"
    }
   ],
   "source": [
    "result.params"
   ]
  },
  {
   "cell_type": "code",
   "execution_count": 71,
   "metadata": {},
   "outputs": [],
   "source": [
    "def plot_traces(traces, burnin=2000):\n",
    "    summary = pm.summary(traces[burnin:])['mean'].to_dict()\n",
    "    ax = pm.traceplot(traces[burnin:],\n",
    "                      figsize=(15, len(traces.varnames)*1.5),\n",
    "                      lines=summary)\n",
    "\n",
    "    for i, mn in enumerate(summary.values()):\n",
    "        ax[i, 0].annotate(f'{mn:.2f}', xy=(mn, 0),\n",
    "                          xycoords='data', xytext=(5, 10),\n",
    "                          textcoords='offset points',\n",
    "                          rotation=90, va='bottom',\n",
    "                          fontsize='large',\n",
    "                          color='#AA0022')"
   ]
  },
  {
   "cell_type": "code",
   "execution_count": 72,
   "metadata": {},
   "outputs": [],
   "source": [
    "with pm.Model() as logistic_model:\n",
    "    pm.glm.GLM.from_formula(formula=full_model,\n",
    "                            data=data,\n",
    "                            family=pm.glm.families.Binomial())"
   ]
  },
  {
   "cell_type": "code",
   "execution_count": 73,
   "metadata": {},
   "outputs": [
    {
     "data": {
      "text/plain": [
       "[Intercept ~ Flat,\n",
       " yield_curve ~ Normal,\n",
       " leverage ~ Normal,\n",
       " financial_conditions ~ Normal,\n",
       " sentiment ~ Normal,\n",
       " y ~ Binomial]"
      ]
     },
     "execution_count": 73,
     "metadata": {},
     "output_type": "execute_result"
    }
   ],
   "source": [
    "logistic_model.basic_RVs"
   ]
  },
  {
   "cell_type": "code",
   "execution_count": 74,
   "metadata": {},
   "outputs": [
    {
     "name": "stderr",
     "output_type": "stream",
     "text": [
      "Multiprocess sampling (4 chains in 4 jobs)\n",
      "CompoundStep\n",
      ">Metropolis: [sentiment]\n",
      ">Metropolis: [financial_conditions]\n",
      ">Metropolis: [leverage]\n",
      ">Metropolis: [yield_curve]\n",
      ">Metropolis: [Intercept]\n"
     ]
    },
    {
     "data": {
      "text/html": [
       "\n",
       "    <div>\n",
       "        <style>\n",
       "            /* Turns off some styling */\n",
       "            progress {\n",
       "                /* gets rid of default border in Firefox and Opera. */\n",
       "                border: none;\n",
       "                /* Needs to be in here for Safari polyfill so background images work as expected. */\n",
       "                background-size: auto;\n",
       "            }\n",
       "            .progress-bar-interrupted, .progress-bar-interrupted::-webkit-progress-bar {\n",
       "                background: #F44336;\n",
       "            }\n",
       "        </style>\n",
       "      <progress value='24000' class='' max='24000' style='width:300px; height:20px; vertical-align: middle;'></progress>\n",
       "      100.00% [24000/24000 00:13<00:00 Sampling 4 chains, 0 divergences]\n",
       "    </div>\n",
       "    "
      ],
      "text/plain": [
       "<IPython.core.display.HTML object>"
      ]
     },
     "metadata": {},
     "output_type": "display_data"
    },
    {
     "name": "stderr",
     "output_type": "stream",
     "text": [
      "Sampling 4 chains for 1_000 tune and 5_000 draw iterations (4_000 + 20_000 draws total) took 24 seconds.\n",
      "The number of effective samples is smaller than 10% for some parameters.\n"
     ]
    }
   ],
   "source": [
    "with logistic_model:\n",
    "    trace_mh = pm.sample(tune=1000,\n",
    "                         draws=5000,\n",
    "                         step=pm.Metropolis(),\n",
    "                         cores=4)"
   ]
  },
  {
   "cell_type": "code",
   "execution_count": 75,
   "metadata": {},
   "outputs": [
    {
     "ename": "DeprecationWarning",
     "evalue": "The function `traceplot` from PyMC3 was an alias for `plot_trace` from ArviZ. It was removed in PyMC3 4.0. Switch to `pymc3.plot_trace` or `arviz.plot_trace`.",
     "output_type": "error",
     "traceback": [
      "\u001b[0;31m---------------------------------------------------------------------------\u001b[0m",
      "\u001b[0;31mDeprecationWarning\u001b[0m                        Traceback (most recent call last)",
      "\u001b[0;32m<ipython-input-75-b5ca77c873db>\u001b[0m in \u001b[0;36m<module>\u001b[0;34m\u001b[0m\n\u001b[0;32m----> 1\u001b[0;31m \u001b[0mplot_traces\u001b[0m\u001b[0;34m(\u001b[0m\u001b[0mtrace_mh\u001b[0m\u001b[0;34m,\u001b[0m \u001b[0mburnin\u001b[0m\u001b[0;34m=\u001b[0m\u001b[0;36m0\u001b[0m\u001b[0;34m)\u001b[0m\u001b[0;34m\u001b[0m\u001b[0;34m\u001b[0m\u001b[0m\n\u001b[0m",
      "\u001b[0;32m<ipython-input-71-182c428fe227>\u001b[0m in \u001b[0;36mplot_traces\u001b[0;34m(traces, burnin)\u001b[0m\n\u001b[1;32m      1\u001b[0m \u001b[0;32mdef\u001b[0m \u001b[0mplot_traces\u001b[0m\u001b[0;34m(\u001b[0m\u001b[0mtraces\u001b[0m\u001b[0;34m,\u001b[0m \u001b[0mburnin\u001b[0m\u001b[0;34m=\u001b[0m\u001b[0;36m2000\u001b[0m\u001b[0;34m)\u001b[0m\u001b[0;34m:\u001b[0m\u001b[0;34m\u001b[0m\u001b[0;34m\u001b[0m\u001b[0m\n\u001b[1;32m      2\u001b[0m     \u001b[0msummary\u001b[0m \u001b[0;34m=\u001b[0m \u001b[0mpm\u001b[0m\u001b[0;34m.\u001b[0m\u001b[0msummary\u001b[0m\u001b[0;34m(\u001b[0m\u001b[0mtraces\u001b[0m\u001b[0;34m[\u001b[0m\u001b[0mburnin\u001b[0m\u001b[0;34m:\u001b[0m\u001b[0;34m]\u001b[0m\u001b[0;34m)\u001b[0m\u001b[0;34m[\u001b[0m\u001b[0;34m'mean'\u001b[0m\u001b[0;34m]\u001b[0m\u001b[0;34m.\u001b[0m\u001b[0mto_dict\u001b[0m\u001b[0;34m(\u001b[0m\u001b[0;34m)\u001b[0m\u001b[0;34m\u001b[0m\u001b[0;34m\u001b[0m\u001b[0m\n\u001b[0;32m----> 3\u001b[0;31m     ax = pm.traceplot(traces[burnin:],\n\u001b[0m\u001b[1;32m      4\u001b[0m                       \u001b[0mfigsize\u001b[0m\u001b[0;34m=\u001b[0m\u001b[0;34m(\u001b[0m\u001b[0;36m15\u001b[0m\u001b[0;34m,\u001b[0m \u001b[0mlen\u001b[0m\u001b[0;34m(\u001b[0m\u001b[0mtraces\u001b[0m\u001b[0;34m.\u001b[0m\u001b[0mvarnames\u001b[0m\u001b[0;34m)\u001b[0m\u001b[0;34m*\u001b[0m\u001b[0;36m1.5\u001b[0m\u001b[0;34m)\u001b[0m\u001b[0;34m,\u001b[0m\u001b[0;34m\u001b[0m\u001b[0;34m\u001b[0m\u001b[0m\n\u001b[1;32m      5\u001b[0m                       lines=summary)\n",
      "\u001b[0;32m/opt/anaconda3/lib/python3.8/site-packages/pymc3-3.11.1-py3.8.egg/pymc3/plots/__init__.py\u001b[0m in \u001b[0;36mwrapped\u001b[0;34m(*args, **kwargs)\u001b[0m\n\u001b[1;32m     37\u001b[0m     \u001b[0;34m@\u001b[0m\u001b[0mfunctools\u001b[0m\u001b[0;34m.\u001b[0m\u001b[0mwraps\u001b[0m\u001b[0;34m(\u001b[0m\u001b[0mfunc\u001b[0m\u001b[0;34m)\u001b[0m\u001b[0;34m\u001b[0m\u001b[0;34m\u001b[0m\u001b[0m\n\u001b[1;32m     38\u001b[0m     \u001b[0;32mdef\u001b[0m \u001b[0mwrapped\u001b[0m\u001b[0;34m(\u001b[0m\u001b[0;34m*\u001b[0m\u001b[0margs\u001b[0m\u001b[0;34m,\u001b[0m \u001b[0;34m**\u001b[0m\u001b[0mkwargs\u001b[0m\u001b[0;34m)\u001b[0m\u001b[0;34m:\u001b[0m\u001b[0;34m\u001b[0m\u001b[0;34m\u001b[0m\u001b[0m\n\u001b[0;32m---> 39\u001b[0;31m         raise DeprecationWarning(\n\u001b[0m\u001b[1;32m     40\u001b[0m             \u001b[0;34mf\"The function `{alias}` from PyMC3 was an alias for `{original}` from ArviZ. \"\u001b[0m\u001b[0;34m\u001b[0m\u001b[0;34m\u001b[0m\u001b[0m\n\u001b[1;32m     41\u001b[0m             \u001b[0;34m\"It was removed in PyMC3 4.0. \"\u001b[0m\u001b[0;34m\u001b[0m\u001b[0;34m\u001b[0m\u001b[0m\n",
      "\u001b[0;31mDeprecationWarning\u001b[0m: The function `traceplot` from PyMC3 was an alias for `plot_trace` from ArviZ. It was removed in PyMC3 4.0. Switch to `pymc3.plot_trace` or `arviz.plot_trace`."
     ]
    }
   ],
   "source": [
    "plot_traces(trace_mh, burnin=0)"
   ]
  },
  {
   "cell_type": "code",
   "execution_count": null,
   "metadata": {},
   "outputs": [],
   "source": []
  }
 ],
 "metadata": {
  "kernelspec": {
   "display_name": "Python 3",
   "language": "python",
   "name": "python3"
  },
  "language_info": {
   "codemirror_mode": {
    "name": "ipython",
    "version": 3
   },
   "file_extension": ".py",
   "mimetype": "text/x-python",
   "name": "python",
   "nbconvert_exporter": "python",
   "pygments_lexer": "ipython3",
   "version": "3.8.3"
  }
 },
 "nbformat": 4,
 "nbformat_minor": 4
}
